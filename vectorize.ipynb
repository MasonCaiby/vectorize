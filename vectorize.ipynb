{
 "cells": [
  {
   "cell_type": "code",
   "execution_count": 1,
   "metadata": {},
   "outputs": [],
   "source": [
    "%matplotlib inline\n",
    "\n",
    "import numpy as np\n",
    "import matplotlib.pyplot as plt\n",
    "\n",
    "# if you dont have seaborn you should download it\n",
    "# if you don't have seaborn AND don't care about pretty plots, comment out the next two line\n",
    "import seaborn as sns\n",
    "sns.set()"
   ]
  },
  {
   "cell_type": "markdown",
   "metadata": {},
   "source": [
    "We'll initialize a list with 100,000 data points to start with.  \n",
    "I'll use that old ti-83 notation to keep track of the length of our lists  \n",
    "I'm also going to include converting a list to a np array in the run times, though you'd only have to do this once IRL. If you're using this in code that will do a lot of different math all on what could be an np array, you should convert it to an array then do the math, netting you more saved time."
   ]
  },
  {
   "cell_type": "code",
   "execution_count": 2,
   "metadata": {},
   "outputs": [],
   "source": [
    "test_list_e5 = list(range(10**5))\n",
    "np_array = np.array(test_list_e5)"
   ]
  },
  {
   "cell_type": "markdown",
   "metadata": {},
   "source": [
    "For the first test we'll multiply everything by 42. I'm going to use:\n",
    "1. A for loop\n",
    "2. List Comprehension\n",
    "3. Mapping\n",
    "3. A for loop on an np array\n",
    "4. A for loop on an np array appending to the array\n",
    "4. List comprehension on an np array\n",
    "5. Mapping an np array\n",
    "5. Built in Vectorization (well, technically in this instance it is broadcasting)\n",
    "6. Built in Vecorization on an existing array\n",
    "6. Explicit np Broadcasting"
   ]
  },
  {
   "cell_type": "code",
   "execution_count": 3,
   "metadata": {},
   "outputs": [
    {
     "name": "stdout",
     "output_type": "stream",
     "text": [
      "10.2 ms ± 137 µs per loop (mean ± std. dev. of 7 runs, 100 loops each)\n"
     ]
    },
    {
     "data": {
      "text/plain": [
       "<TimeitResult : 10.2 ms ± 137 µs per loop (mean ± std. dev. of 7 runs, 100 loops each)>"
      ]
     },
     "execution_count": 3,
     "metadata": {},
     "output_type": "execute_result"
    }
   ],
   "source": [
    "%%timeit -o\n",
    "# For Loop\n",
    "new_list = []\n",
    "for element in test_list_e5:\n",
    "    new_list.append(element*42)\n"
   ]
  },
  {
   "cell_type": "code",
   "execution_count": 4,
   "metadata": {},
   "outputs": [],
   "source": [
    "for_loop_time = _"
   ]
  },
  {
   "cell_type": "code",
   "execution_count": 5,
   "metadata": {},
   "outputs": [
    {
     "name": "stdout",
     "output_type": "stream",
     "text": [
      "4.51 ms ± 22.7 µs per loop (mean ± std. dev. of 7 runs, 100 loops each)\n"
     ]
    },
    {
     "data": {
      "text/plain": [
       "<TimeitResult : 4.51 ms ± 22.7 µs per loop (mean ± std. dev. of 7 runs, 100 loops each)>"
      ]
     },
     "execution_count": 5,
     "metadata": {},
     "output_type": "execute_result"
    }
   ],
   "source": [
    "%%timeit -o\n",
    "# List Comprehension\n",
    "new_list = [element*42 for element in test_list_e5]"
   ]
  },
  {
   "cell_type": "code",
   "execution_count": 6,
   "metadata": {},
   "outputs": [],
   "source": [
    "list_comprehension_time = _"
   ]
  },
  {
   "cell_type": "code",
   "execution_count": 7,
   "metadata": {},
   "outputs": [
    {
     "name": "stdout",
     "output_type": "stream",
     "text": [
      "9.44 ms ± 29.2 µs per loop (mean ± std. dev. of 7 runs, 100 loops each)\n"
     ]
    },
    {
     "data": {
      "text/plain": [
       "<TimeitResult : 9.44 ms ± 29.2 µs per loop (mean ± std. dev. of 7 runs, 100 loops each)>"
      ]
     },
     "execution_count": 7,
     "metadata": {},
     "output_type": "execute_result"
    }
   ],
   "source": [
    "%%timeit -o\n",
    "# Mapping\n",
    "\n",
    "# note: we have to convert the map object to a list here, as a map object isn't actually doing\n",
    "# the math, so it will be way faster here, but slower to iterate later on\n",
    "# see the bottom of this notebook for that\n",
    "new_map = list(map(lambda x: x*42, test_list_e5))"
   ]
  },
  {
   "cell_type": "code",
   "execution_count": 8,
   "metadata": {},
   "outputs": [],
   "source": [
    "mapping_time = _"
   ]
  },
  {
   "cell_type": "code",
   "execution_count": 9,
   "metadata": {},
   "outputs": [
    {
     "name": "stdout",
     "output_type": "stream",
     "text": [
      "33.2 ms ± 83 µs per loop (mean ± std. dev. of 7 runs, 10 loops each)\n"
     ]
    },
    {
     "data": {
      "text/plain": [
       "<TimeitResult : 33.2 ms ± 83 µs per loop (mean ± std. dev. of 7 runs, 10 loops each)>"
      ]
     },
     "execution_count": 9,
     "metadata": {},
     "output_type": "execute_result"
    }
   ],
   "source": [
    "%%timeit -o\n",
    "# np array, for loop, indexing into array\n",
    "np_array = np.array(test_list_e5)\n",
    "new_array = np.zeros(len(np_array))\n",
    "\n",
    "for i, element in enumerate(np_array):\n",
    "    new_array[i] = element*42"
   ]
  },
  {
   "cell_type": "code",
   "execution_count": 10,
   "metadata": {},
   "outputs": [],
   "source": [
    "np_for_loop_time = _"
   ]
  },
  {
   "cell_type": "code",
   "execution_count": 11,
   "metadata": {},
   "outputs": [
    {
     "name": "stdout",
     "output_type": "stream",
     "text": [
      "363 ms ± 14.1 ms per loop (mean ± std. dev. of 7 runs, 1 loop each)\n"
     ]
    },
    {
     "data": {
      "text/plain": [
       "<TimeitResult : 363 ms ± 14.1 ms per loop (mean ± std. dev. of 7 runs, 1 loop each)>"
      ]
     },
     "execution_count": 11,
     "metadata": {},
     "output_type": "execute_result"
    }
   ],
   "source": [
    "%%timeit -o\n",
    "# np array, for loop, appending to array\n",
    "np_array = np.array(test_list_e5)\n",
    "new_array = np.array([])\n",
    "\n",
    "for element in np_array:\n",
    "    np.append(new_array, element*42)"
   ]
  },
  {
   "cell_type": "code",
   "execution_count": 12,
   "metadata": {},
   "outputs": [],
   "source": [
    "np_for_append_time = _"
   ]
  },
  {
   "cell_type": "code",
   "execution_count": 13,
   "metadata": {},
   "outputs": [
    {
     "name": "stdout",
     "output_type": "stream",
     "text": [
      "23.8 ms ± 681 µs per loop (mean ± std. dev. of 7 runs, 10 loops each)\n"
     ]
    },
    {
     "data": {
      "text/plain": [
       "<TimeitResult : 23.8 ms ± 681 µs per loop (mean ± std. dev. of 7 runs, 10 loops each)>"
      ]
     },
     "execution_count": 13,
     "metadata": {},
     "output_type": "execute_result"
    }
   ],
   "source": [
    "%%timeit -o\n",
    "np_array = np.array(test_list_e5)\n",
    "new_list = [element*42 for element in np_array]"
   ]
  },
  {
   "cell_type": "code",
   "execution_count": 14,
   "metadata": {},
   "outputs": [],
   "source": [
    "np_list_comp = _"
   ]
  },
  {
   "cell_type": "code",
   "execution_count": 15,
   "metadata": {},
   "outputs": [
    {
     "name": "stdout",
     "output_type": "stream",
     "text": [
      "4.06 ms ± 82.4 µs per loop (mean ± std. dev. of 7 runs, 100 loops each)\n"
     ]
    },
    {
     "data": {
      "text/plain": [
       "<TimeitResult : 4.06 ms ± 82.4 µs per loop (mean ± std. dev. of 7 runs, 100 loops each)>"
      ]
     },
     "execution_count": 15,
     "metadata": {},
     "output_type": "execute_result"
    }
   ],
   "source": [
    "%%timeit -o\n",
    "np_array = np.array(test_list_e5)\n",
    "np_array=np_array*42"
   ]
  },
  {
   "cell_type": "code",
   "execution_count": 16,
   "metadata": {},
   "outputs": [],
   "source": [
    "np_new_array_broadcast_time = _"
   ]
  },
  {
   "cell_type": "code",
   "execution_count": 17,
   "metadata": {},
   "outputs": [
    {
     "name": "stdout",
     "output_type": "stream",
     "text": [
      "72.3 µs ± 2.75 µs per loop (mean ± std. dev. of 7 runs, 10000 loops each)\n"
     ]
    },
    {
     "data": {
      "text/plain": [
       "<TimeitResult : 72.3 µs ± 2.75 µs per loop (mean ± std. dev. of 7 runs, 10000 loops each)>"
      ]
     },
     "execution_count": 17,
     "metadata": {},
     "output_type": "execute_result"
    }
   ],
   "source": [
    "%%timeit -o \n",
    "# timeit creates its own scope so we have to rename the np_array we're using to avoid an Unassigned error\n",
    "np_array1=np_array*42"
   ]
  },
  {
   "cell_type": "code",
   "execution_count": 18,
   "metadata": {},
   "outputs": [],
   "source": [
    "np_broadcast_time = _"
   ]
  },
  {
   "cell_type": "code",
   "execution_count": 19,
   "metadata": {},
   "outputs": [
    {
     "name": "stdout",
     "output_type": "stream",
     "text": [
      "27.4 ms ± 149 µs per loop (mean ± std. dev. of 7 runs, 10 loops each)\n"
     ]
    },
    {
     "data": {
      "text/plain": [
       "<TimeitResult : 27.4 ms ± 149 µs per loop (mean ± std. dev. of 7 runs, 10 loops each)>"
      ]
     },
     "execution_count": 19,
     "metadata": {},
     "output_type": "execute_result"
    }
   ],
   "source": [
    "%%timeit -o\n",
    "np_array = np.array(test_list_e5)\n",
    "b = np.broadcast(np_array, 42)\n",
    "out = np.empty(b.shape)\n",
    "out.flat = [u*v for (u,v) in b]"
   ]
  },
  {
   "cell_type": "code",
   "execution_count": 20,
   "metadata": {},
   "outputs": [],
   "source": [
    "np_explicit_broadcast_time = _"
   ]
  },
  {
   "cell_type": "markdown",
   "metadata": {},
   "source": [
    "### Addition Takeaway\n",
    "Somewhat surprisingly, np is slower in every instance* compared to a native python list comprehension, except when we have the array pre-made. This is because we're using a lot of time to push python data to C then back to python.\n",
    "\n",
    "\\* list comprehension and making an np array then using broadcasting trade places."
   ]
  },
  {
   "cell_type": "code",
   "execution_count": 29,
   "metadata": {},
   "outputs": [
    {
     "data": {
      "image/png": "[encoded data removed]",
      "text/plain": [
       "<Figure size 720x720 with 1 Axes>"
      ]
     },
     "metadata": {
      "needs_background": "light"
     },
     "output_type": "display_data"
    }
   ],
   "source": [
    "times = [a.average for a in [for_loop_time, list_comprehension_time, mapping_time, \n",
    "         np_for_loop_time, np_for_append_time, np_list_comp,\n",
    "         np_new_array_broadcast_time, np_broadcast_time,\n",
    "         np_explicit_broadcast_time]]\n",
    "labels = [\"For Loop\", \"List Comprehension\", \"Map\", \"NP For Loop\", \"NP For Append\", \"NP List Comprehension\",\n",
    "          \"NP Broadcast, new array\", \"NP Broadcast\", \"NP Explicit Broadcast\"]\n",
    "times = sorted(zip(times, labels), key = lambda a: a[0])\n",
    "fig=plt.figure(figsize=(10, 10))\n",
    "plt.bar(range(9), [time for time, label in times], tick_label=[label for time, label in times])\n",
    "plt.xticks(rotation='vertical')\n",
    "plt.ylabel(\"Seconds\")\n",
    "plt.xlabel(\"Function\")\n",
    "plt.title(\"All addition timings\")\n",
    "plt.show()"
   ]
  },
  {
   "cell_type": "code",
   "execution_count": 30,
   "metadata": {},
   "outputs": [
    {
     "data": {
      "image/png": "[encoded data removed]",
      "text/plain": [
       "<Figure size 720x720 with 1 Axes>"
      ]
     },
     "metadata": {
      "needs_background": "light"
     },
     "output_type": "display_data"
    }
   ],
   "source": [
    "best_four = times[:4]\n",
    "fig=plt.figure(figsize=(10, 10))\n",
    "plt.bar(range(4), [time for time, label in best_four], tick_label=[label for time, label in best_four])\n",
    "plt.xticks(rotation='vertical')\n",
    "plt.ylabel(\"Seconds\")\n",
    "plt.xlabel(\"Function\")\n",
    "plt.title(\"Top 4 addition timings\")\n",
    "plt.show()"
   ]
  },
  {
   "cell_type": "markdown",
   "metadata": {},
   "source": [
    "## Why we have to convert the map object to a list\n",
    "So python's map is lazy, i.e. it doesn't actually do the math we tell it to for each element until we iterate to that element. This has a handful of pros and cons.  \n",
    "One of the main pros is that we significantly reduce the amount of memory our program would use. You can run this on your computer: `map(str, range(10**100))` but not this: `[str(n) for n in range(10**100)]`, unless you have that [G-skill](https://www.youtube.com/watch?v=3CCqXc6onBo) build."
   ]
  },
  {
   "cell_type": "code",
   "execution_count": 23,
   "metadata": {},
   "outputs": [],
   "source": [
    "new_map = map(lambda x: x*42, test_list_e5)\n",
    "new_list = [element*42 for element in test_list_e5]"
   ]
  },
  {
   "cell_type": "code",
   "execution_count": 24,
   "metadata": {},
   "outputs": [
    {
     "name": "stdout",
     "output_type": "stream",
     "text": [
      "12 ms ± 0 ns per loop (mean ± std. dev. of 1 run, 1 loop each)\n"
     ]
    }
   ],
   "source": [
    "%%timeit -n 1 -r 1\n",
    "\n",
    "# so this stumped me for a minute, but we have to limit the runs to 1 when iterating over a map object\n",
    "# because the map object is a generator and is \"used up\" after the first run and becomes empty\n",
    "# then we're iterating over an empty object in future trials which DRASTICALLY lowers the average runtime\n",
    "\n",
    "total = 0\n",
    "for elem in new_map:\n",
    "    total += elem"
   ]
  },
  {
   "cell_type": "code",
   "execution_count": 25,
   "metadata": {},
   "outputs": [
    {
     "name": "stdout",
     "output_type": "stream",
     "text": [
      "3.88 ms ± 0 ns per loop (mean ± std. dev. of 1 run, 1 loop each)\n"
     ]
    }
   ],
   "source": [
    "%%timeit -n 1 -r 1\n",
    "\n",
    "# i replicated the single run from above for consistency\n",
    "\n",
    "total = 0\n",
    "for elem in new_list:\n",
    "    total+=elem"
   ]
  },
  {
   "cell_type": "code",
   "execution_count": null,
   "metadata": {},
   "outputs": [],
   "source": []
  },
  {
   "cell_type": "code",
   "execution_count": null,
   "metadata": {},
   "outputs": [],
   "source": []
  },
  {
   "cell_type": "code",
   "execution_count": null,
   "metadata": {},
   "outputs": [],
   "source": []
  }
 ],
 "metadata": {
  "kernelspec": {
   "display_name": "Python 3",
   "language": "python",
   "name": "python3"
  },
  "language_info": {
   "codemirror_mode": {
    "name": "ipython",
    "version": 3
   },
   "file_extension": ".py",
   "mimetype": "text/x-python",
   "name": "python",
   "nbconvert_exporter": "python",
   "pygments_lexer": "ipython3",
   "version": "3.6.8"
  }
 },
 "nbformat": 4,
 "nbformat_minor": 2
}
