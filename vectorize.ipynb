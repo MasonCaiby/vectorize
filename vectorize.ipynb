{
 "cells": [
  {
   "cell_type": "code",
   "execution_count": 1,
   "metadata": {},
   "outputs": [],
   "source": [
    "%matplotlib inline\n",
    "\n",
    "import numpy as np\n",
    "import matplotlib.pyplot as plt\n",
    "\n",
    "# if you dont have seaborn you should download it\n",
    "# if you don't have seaborn AND don't care about pretty plots, comment out the next two line\n",
    "import seaborn as sns\n",
    "sns.set()"
   ]
  },
  {
   "cell_type": "markdown",
   "metadata": {},
   "source": [
    "We'll initialize a list with 100,000 data points to start with.  \n",
    "I'll use that old ti-83 notation to keep track of the length of our lists  \n",
    "I'm also going to include converting a list to a np array in the run times, though you'd only have to do this once IRL  "
   ]
  },
  {
   "cell_type": "code",
   "execution_count": 97,
   "metadata": {},
   "outputs": [],
   "source": [
    "test_list_e5 = list(range(10**5))"
   ]
  },
  {
   "cell_type": "markdown",
   "metadata": {},
   "source": [
    "For the first test we'll multiply everything by 42. I'm going to use:\n",
    "1. A for loop\n",
    "2. List Comprehension\n",
    "3. Mapping\n",
    "3. A for loop on an np array\n",
    "4. A for loop on an np array appending to the array\n",
    "4. List comprehension on an np array\n",
    "5. Mapping an np array\n",
    "5. Built in Vectorization (well, technically in this instance it is broadcasting)\n",
    "6. Explicit np Broadcasting"
   ]
  },
  {
   "cell_type": "code",
   "execution_count": 85,
   "metadata": {},
   "outputs": [
    {
     "name": "stdout",
     "output_type": "stream",
     "text": [
      "9.89 ms ± 182 µs per loop (mean ± std. dev. of 7 runs, 100 loops each)\n"
     ]
    }
   ],
   "source": [
    "%%timeit\n",
    "new_list = []\n",
    "for element in test_list_e5:\n",
    "    new_list.append(element*42)\n"
   ]
  },
  {
   "cell_type": "code",
   "execution_count": 95,
   "metadata": {},
   "outputs": [
    {
     "name": "stdout",
     "output_type": "stream",
     "text": [
      "4.9 ms ± 169 µs per loop (mean ± std. dev. of 7 runs, 100 loops each)\n"
     ]
    }
   ],
   "source": [
    "%%timeit\n",
    "new_list = [element*42 for element in test_list_e5]"
   ]
  },
  {
   "cell_type": "code",
   "execution_count": 87,
   "metadata": {},
   "outputs": [
    {
     "name": "stdout",
     "output_type": "stream",
     "text": [
      "10.1 ms ± 301 µs per loop (mean ± std. dev. of 7 runs, 100 loops each)\n"
     ]
    }
   ],
   "source": [
    "%%timeit\n",
    "\n",
    "# note: we have to convert the map object to a list here, as a map object isn't actually doing\n",
    "# the math, so it will be way faster here, but slower to iterate later on\n",
    "new_map = list(map(lambda x: x*42, test_list_e5))"
   ]
  },
  {
   "cell_type": "code",
   "execution_count": 88,
   "metadata": {},
   "outputs": [
    {
     "name": "stdout",
     "output_type": "stream",
     "text": [
      "34.3 ms ± 461 µs per loop (mean ± std. dev. of 7 runs, 10 loops each)\n"
     ]
    }
   ],
   "source": [
    "%%timeit\n",
    "\n",
    "np_array = np.array(test_list_e5)\n",
    "new_array = np.zeros(len(np_array))\n",
    "\n",
    "for i, element in enumerate(np_array):\n",
    "    new_array[i] = element*42"
   ]
  },
  {
   "cell_type": "code",
   "execution_count": 89,
   "metadata": {},
   "outputs": [
    {
     "name": "stdout",
     "output_type": "stream",
     "text": [
      "373 ms ± 6.56 ms per loop (mean ± std. dev. of 7 runs, 1 loop each)\n"
     ]
    }
   ],
   "source": [
    "%%timeit\n",
    "\n",
    "np_array = np.array(test_list_e5)\n",
    "new_array = np.array([])\n",
    "\n",
    "for element in np_array:\n",
    "    np.append(new_array, element*42)"
   ]
  },
  {
   "cell_type": "code",
   "execution_count": 90,
   "metadata": {},
   "outputs": [
    {
     "name": "stdout",
     "output_type": "stream",
     "text": [
      "24.5 ms ± 931 µs per loop (mean ± std. dev. of 7 runs, 10 loops each)\n"
     ]
    }
   ],
   "source": [
    "%%timeit\n",
    "np_array = np.array(test_list_e5)\n",
    "new_list = [element*42 for element in np_array]"
   ]
  },
  {
   "cell_type": "code",
   "execution_count": 96,
   "metadata": {},
   "outputs": [
    {
     "name": "stdout",
     "output_type": "stream",
     "text": [
      "6.25 ms ± 87.1 µs per loop (mean ± std. dev. of 7 runs, 100 loops each)\n"
     ]
    }
   ],
   "source": [
    "%%timeit\n",
    "np_array = np.array(test_list_e5)\n",
    "np_array*=42\n",
    "new_list = np_array.tolist()"
   ]
  },
  {
   "cell_type": "code",
   "execution_count": 92,
   "metadata": {},
   "outputs": [
    {
     "name": "stdout",
     "output_type": "stream",
     "text": [
      "28.1 ms ± 646 µs per loop (mean ± std. dev. of 7 runs, 10 loops each)\n"
     ]
    }
   ],
   "source": [
    "%%timeit\n",
    "np_array = np.array(test_list_e5)\n",
    "b = np.broadcast(np_array, 42)\n",
    "out = np.empty(b.shape)\n",
    "out.flat = [u*v for (u,v) in b]"
   ]
  },
  {
   "cell_type": "code",
   "execution_count": null,
   "metadata": {},
   "outputs": [],
   "source": []
  },
  {
   "cell_type": "code",
   "execution_count": 39,
   "metadata": {},
   "outputs": [
    {
     "name": "stdout",
     "output_type": "stream",
     "text": [
      "209997900000\n",
      "12.6 ms ± 0 ns per loop (mean ± std. dev. of 1 run, 1 loop each)\n"
     ]
    }
   ],
   "source": [
    "# so this stumped me for a minute, but we have to limit the runs to 1 when iterating over a map object\n",
    "# because the map object is a generator and is \"used up\" after the first run and becomes empty\n",
    "# then we're iterating over an empty object in future trials which DRASTICALLY lowers the average runtime\n",
    "\n",
    "%%timeit -n 1 -r 1\n",
    "total = 0\n",
    "for elem in new_map:\n",
    "    total += elem\n",
    "print(total)"
   ]
  },
  {
   "cell_type": "code",
   "execution_count": 40,
   "metadata": {},
   "outputs": [
    {
     "name": "stdout",
     "output_type": "stream",
     "text": [
      "209997900000\n",
      "3.9 ms ± 0 ns per loop (mean ± std. dev. of 1 run, 1 loop each)\n"
     ]
    }
   ],
   "source": [
    "# i replicated the single run from above for consistency\n",
    "\n",
    "%%timeit -n 1 -r 1\n",
    "total = 0\n",
    "for elem in new_list:\n",
    "    total+=elem\n",
    "print(total)"
   ]
  },
  {
   "cell_type": "code",
   "execution_count": null,
   "metadata": {},
   "outputs": [],
   "source": []
  }
 ],
 "metadata": {
  "kernelspec": {
   "display_name": "Python 3",
   "language": "python",
   "name": "python3"
  },
  "language_info": {
   "codemirror_mode": {
    "name": "ipython",
    "version": 3
   },
   "file_extension": ".py",
   "mimetype": "text/x-python",
   "name": "python",
   "nbconvert_exporter": "python",
   "pygments_lexer": "ipython3",
   "version": "3.6.8"
  }
 },
 "nbformat": 4,
 "nbformat_minor": 2
}
